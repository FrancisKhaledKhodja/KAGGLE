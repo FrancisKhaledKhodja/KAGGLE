{
 "cells": [
  {
   "cell_type": "markdown",
   "id": "05232fae",
   "metadata": {},
   "source": [
    "# Titanic Kaggle"
   ]
  },
  {
   "cell_type": "markdown",
   "id": "8dc9bac0",
   "metadata": {},
   "source": [
    "lien challenge: https://www.kaggle.com/c/titanic/overview"
   ]
  },
  {
   "cell_type": "code",
   "execution_count": null,
   "id": "f240ee46",
   "metadata": {},
   "outputs": [],
   "source": []
  }
 ],
 "metadata": {
  "kernelspec": {
   "display_name": "Python 3",
   "language": "python",
   "name": "python3"
  },
  "language_info": {
   "codemirror_mode": {
    "name": "ipython",
    "version": 3
   },
   "file_extension": ".py",
   "mimetype": "text/x-python",
   "name": "python",
   "nbconvert_exporter": "python",
   "pygments_lexer": "ipython3",
   "version": "3.8.8"
  }
 },
 "nbformat": 4,
 "nbformat_minor": 5
}
